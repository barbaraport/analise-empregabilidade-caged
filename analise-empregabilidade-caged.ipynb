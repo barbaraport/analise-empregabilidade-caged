{
 "cells": [
  {
   "cell_type": "code",
   "execution_count": 1,
   "id": "e81cd6bb",
   "metadata": {},
   "outputs": [],
   "source": [
    "import pandas as pd\n",
    "import numpy as np\n",
    "import matplotlib.pyplot as plt\n",
    "low_memory=False\n",
    "%matplotlib notebook\n"
   ]
  },
  {
   "cell_type": "code",
   "execution_count": 2,
   "id": "39a00926",
   "metadata": {},
   "outputs": [],
   "source": [
    "##*ARQUIVO* - Layout caged movimentação\n",
    "    ##Organizar os sheets do Layout CAGED\n",
    "        # 'extrai' aba gênero\n",
    "dfLayoutGenero = pd.read_excel(r'./doc/layouts/Layout Novo Caged Movimentação.xlsx', sheet_name='sexo')\n",
    "        # 'extrai' Setor\n",
    "dfLayoutSetor = pd.read_excel(r'./doc/layouts/Layout Novo Caged Movimentação.xlsx', sheet_name='cbo2002ocupação')\n",
    "        # 'extrai' Nivel de escolaridade\n",
    "dfLayoutEscolaridade = pd.read_excel(r'./doc/layouts/Layout Novo Caged Movimentação.xlsx', sheet_name='graudeinstrução')\n",
    "        # extrai a planilha 'Layout'\n",
    "dfLayout = pd.read_excel(r'./doc/layouts/Layout Novo Caged Movimentação.xlsx', sheet_name='Layout')"
   ]
  },
  {
   "cell_type": "code",
   "execution_count": 3,
   "id": "complimentary-influence",
   "metadata": {},
   "outputs": [],
   "source": [
    "#Verificar o dataframe do Layout CAGED\n",
    "#dfLayout"
   ]
  },
  {
   "cell_type": "code",
   "execution_count": 4,
   "id": "colored-restaurant",
   "metadata": {},
   "outputs": [],
   "source": [
    "#dfLayoutGenero"
   ]
  },
  {
   "cell_type": "code",
   "execution_count": 5,
   "id": "loved-horizon",
   "metadata": {},
   "outputs": [],
   "source": [
    "#dfLayoutSetor"
   ]
  },
  {
   "cell_type": "code",
   "execution_count": 6,
   "id": "received-puzzle",
   "metadata": {},
   "outputs": [],
   "source": [
    "#dfLayoutEscolaridade"
   ]
  },
  {
   "cell_type": "code",
   "execution_count": 7,
   "id": "d5452c8a-cfb5-4431-bb6d-e6d309f82e6d",
   "metadata": {},
   "outputs": [],
   "source": [
    "colunas = ['graudeinstrução', 'idade', 'sexo','tipomovimentação']\n",
    "##*ARQUIVO DE DADOS DE MOVIMENTAÇÃO 2020* \n",
    "movimento2020 = {\n",
    "    'janeiro':pd.read_csv(r'./doc/bases_de_dados/movimentacao/2020/CAGEDMOV202001.txt', delimiter=';', usecols=colunas),\n",
    "    'fevereiro':pd.read_csv(r'./doc/bases_de_dados/movimentacao/2020/CAGEDMOV202002.txt', delimiter=';', usecols=colunas),\n",
    "    'marco':pd.read_csv(r'./doc/bases_de_dados/movimentacao/2020/CAGEDMOV202003.txt', delimiter=';', usecols=colunas),\n",
    "    'abril':pd.read_csv(r'./doc/bases_de_dados/movimentacao/2020/CAGEDMOV202004.txt', delimiter=';', usecols=colunas),\n",
    "    'maio':'',\n",
    "    'junho':'',\n",
    "    'julho':'',\n",
    "    'agosto':'',\n",
    "    'setembro':'',\n",
    "    'outubro':'',\n",
    "    'novembro':'',\n",
    "    'dezembro':''\n",
    "}\n",
    "\n",
    "##*ARQUIVO DE DADOS DE MOVIMENTAÇÃO 2021* \n",
    "movimento2021 = {\n",
    "    'janeiro':pd.read_csv(r'./doc/bases_de_dados/movimentacao/2021/CAGEDMOV202101.txt', delimiter=';', usecols=colunas),\n",
    "    'fevereiro':pd.read_csv(r'./doc/bases_de_dados/movimentacao/2021/CAGEDMOV202102.txt', delimiter=';', usecols=colunas),\n",
    "    'marco':pd.read_csv(r'./doc/bases_de_dados/movimentacao/2021/CAGEDMOV202103.txt', delimiter=';', usecols=colunas),\n",
    "    'abril': pd.read_csv(r'./doc/bases_de_dados/movimentacao/2021/CAGEDMOV202104.txt', delimiter=';', usecols=colunas)\n",
    "}"
   ]
  },
  {
   "cell_type": "code",
   "execution_count": 8,
   "id": "bb3a5e32-b9ff-42c5-9889-b866be62c663",
   "metadata": {},
   "outputs": [],
   "source": [
    "def contagemEmpregoSexo(dic):\n",
    "    d = {'mulheres':0,'homens':0}\n",
    "    a = {'mulheres':0,'homens':0}\n",
    "    n = {'mulheres':0,'homens':0}\n",
    "    for k,v in dic.items():\n",
    "        if(k[0] in [10,20,25,35,70]):\n",
    "            if(k[1]==1):\n",
    "                a['homens']+=v\n",
    "            if(k[1]==3):\n",
    "                a['mulheres']+=v\n",
    "        elif(k[0] in [31,32,33,40,43,45,50,60,80,90,98]):\n",
    "            if(k[1]==1):\n",
    "                d['homens']+=v\n",
    "            if(k[1]==3):\n",
    "                d['mulheres']+=v\n",
    "        else:\n",
    "            if(k[1]==1):\n",
    "                n['homens']+=v\n",
    "            if(k[1]==3):\n",
    "                n['mulheres']+=v\n",
    "    return {\n",
    "        \"admissoes\":a,\n",
    "        \"demissoes\":d,\n",
    "        \"nao_identificado\":n\n",
    "    }"
   ]
  },
  {
   "cell_type": "code",
   "execution_count": 9,
   "id": "042349a3-17df-4bd7-8b1b-800ca16fdee5",
   "metadata": {},
   "outputs": [
    {
     "name": "stdout",
     "output_type": "stream",
     "text": [
      "{'janeiro': {'admissoes': {'mulheres': 526049, 'homens': 816213}, 'demissoes': {'mulheres': 514198, 'homens': 746848}, 'nao_identificado': {'mulheres': 5500, 'homens': 8894}}, 'fevereiro': {'admissoes': {'mulheres': 590300, 'homens': 853088}, 'demissoes': {'mulheres': 488395, 'homens': 750008}, 'nao_identificado': {'mulheres': 6251, 'homens': 9865}}, 'marco': {'admissoes': {'mulheres': 513422, 'homens': 803233}, 'demissoes': {'mulheres': 606957, 'homens': 895398}, 'nao_identificado': {'mulheres': 8622, 'homens': 13079}}, 'abril': {'admissoes': {'mulheres': 211231, 'homens': 387365}, 'demissoes': {'mulheres': 587710, 'homens': 864511}, 'nao_identificado': {'mulheres': 2163, 'homens': 4715}}}\n",
      "{'janeiro': {'admissoes': {'mulheres': 630448, 'homens': 986324}, 'demissoes': {'mulheres': 535802, 'homens': 810673}, 'nao_identificado': {'mulheres': 2942, 'homens': 5937}}, 'fevereiro': {'admissoes': {'mulheres': 708742, 'homens': 1050953}, 'demissoes': {'mulheres': 526897, 'homens': 824746}, 'nao_identificado': {'mulheres': 3726, 'homens': 6142}}, 'marco': {'admissoes': {'mulheres': 635707, 'homens': 1012537}, 'demissoes': {'mulheres': 560631, 'homens': 899829}, 'nao_identificado': {'mulheres': 3385, 'homens': 7047}}, 'abril': {'admissoes': {'mulheres': 516256, 'homens': 865511}, 'demissoes': {'mulheres': 471471, 'homens': 779523}, 'nao_identificado': {'mulheres': 3101, 'homens': 6737}}}\n"
     ]
    }
   ],
   "source": [
    "##Verificar o dataframe do CAGED Movimentação \n",
    "#Admissões e demissões por gênero 2020 \n",
    "empregoPorGenero2020 = { \n",
    "    'janeiro':contagemEmpregoSexo(movimento2020['janeiro'].sample(50).groupby(['tipomovimentação'])['sexo'].value_counts().to_dict()), \n",
    "    'fevereiro':contagemEmpregoSexo(movimento2020['fevereiro'].sample(50).groupby(['tipomovimentação'])['sexo'].value_counts().to_dict()), \n",
    "    'marco':contagemEmpregoSexo(movimento2020['marco'].sample(50).groupby(['tipomovimentação'])['sexo'].value_counts().to_dict()), \n",
    "    'abril':contagemEmpregoSexo(movimento2020['abril'].sample(50).groupby(['tipomovimentação'])['sexo'].value_counts().to_dict()) \n",
    "} \n",
    "#Admissões e demissões por gênero 2021 \n",
    "empregoPorGenero2021 = { \n",
    "    'janeiro':contagemEmpregoSexo(movimento2021['janeiro'].sample(50).groupby(['tipomovimentação'])['sexo'].value_counts().to_dict()), \n",
    "    'fevereiro':contagemEmpregoSexo(movimento2021['fevereiro'].sample(50).groupby(['tipomovimentação'])['sexo'].value_counts().to_dict()),\n",
    "    'marco':contagemEmpregoSexo(movimento2021['marco'].sample(50).groupby(['tipomovimentação'])['sexo'].value_counts().to_dict()), \n",
    "    'abril':contagemEmpregoSexo(movimento2021['abril'].sample(50).groupby(['tipomovimentação'])['sexo'].value_counts().to_dict()) \n",
    "} \n",
    "print(empregoPorGenero2020)\n",
    "print(empregoPorGenero2021)"
   ]
  }
 ],
 "metadata": {
  "kernelspec": {
   "display_name": "Python 3",
   "language": "python",
   "name": "python3"
  },
  "language_info": {
   "codemirror_mode": {
    "name": "ipython",
    "version": 3
   },
   "file_extension": ".py",
   "mimetype": "text/x-python",
   "name": "python",
   "nbconvert_exporter": "python",
   "pygments_lexer": "ipython3",
   "version": "3.8.5"
  }
 },
 "nbformat": 4,
 "nbformat_minor": 5
}
